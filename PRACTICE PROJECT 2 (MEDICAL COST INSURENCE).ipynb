{
 "cells": [
  {
   "cell_type": "code",
   "execution_count": null,
   "id": "e0fe94cf",
   "metadata": {},
   "outputs": [],
   "source": [
    "#Q2.\n",
    "\"\"\" Medical Cost Personal Insurance Project \n",
    "Health insurance is a type of insurance that covers medical expenses that arise due to an illness. These expenses could be related to hospitalisation costs, cost of medicines or doctor consultation fees. The main purpose of medical insurance is to receive the best medical care without any strain on your finances. Health insurance plans offer protection against high medical costs. It covers hospitalization expenses, day care procedures, domiciliary expenses, and ambulance charges, besides many others. Based on certain input features such as age , bmi,,no of dependents ,smoker ,region  medical insurance is calculated .\n",
    "Columns                                            \n",
    "•\tage: age of primary beneficiary\n",
    "•\tsex: insurance contractor gender, female, male\n",
    "•\tbmi: Body mass index, providing an understanding of body, weights that are relatively high or low relative to height, objective index of body weight (kg / m ^ 2) using the ratio of height to weight, ideally 18.5 to 24.9.\n",
    "•\tchildren: Number of children covered by health insurance / Number of dependents\n",
    "•\tsmoker: Smoking\n",
    "•\tregion: the beneficiary's residential area in the US, northeast, southeast, southwest, northwest.\n",
    "•\tcharges: Individual medical costs billed by health insurance\n",
    "\n",
    "Predict : Can you accurately predict insurance costs?\n",
    "      \"\"\""
   ]
  },
  {
   "cell_type": "code",
   "execution_count": 1,
   "id": "8007da95",
   "metadata": {},
   "outputs": [
    {
     "data": {
      "text/html": [
       "<div>\n",
       "<style scoped>\n",
       "    .dataframe tbody tr th:only-of-type {\n",
       "        vertical-align: middle;\n",
       "    }\n",
       "\n",
       "    .dataframe tbody tr th {\n",
       "        vertical-align: top;\n",
       "    }\n",
       "\n",
       "    .dataframe thead th {\n",
       "        text-align: right;\n",
       "    }\n",
       "</style>\n",
       "<table border=\"1\" class=\"dataframe\">\n",
       "  <thead>\n",
       "    <tr style=\"text-align: right;\">\n",
       "      <th></th>\n",
       "      <th>age</th>\n",
       "      <th>sex</th>\n",
       "      <th>bmi</th>\n",
       "      <th>children</th>\n",
       "      <th>smoker</th>\n",
       "      <th>region</th>\n",
       "      <th>charges</th>\n",
       "    </tr>\n",
       "  </thead>\n",
       "  <tbody>\n",
       "    <tr>\n",
       "      <th>0</th>\n",
       "      <td>19</td>\n",
       "      <td>female</td>\n",
       "      <td>27.900</td>\n",
       "      <td>0</td>\n",
       "      <td>yes</td>\n",
       "      <td>southwest</td>\n",
       "      <td>16884.92400</td>\n",
       "    </tr>\n",
       "    <tr>\n",
       "      <th>1</th>\n",
       "      <td>18</td>\n",
       "      <td>male</td>\n",
       "      <td>33.770</td>\n",
       "      <td>1</td>\n",
       "      <td>no</td>\n",
       "      <td>southeast</td>\n",
       "      <td>1725.55230</td>\n",
       "    </tr>\n",
       "    <tr>\n",
       "      <th>2</th>\n",
       "      <td>28</td>\n",
       "      <td>male</td>\n",
       "      <td>33.000</td>\n",
       "      <td>3</td>\n",
       "      <td>no</td>\n",
       "      <td>southeast</td>\n",
       "      <td>4449.46200</td>\n",
       "    </tr>\n",
       "    <tr>\n",
       "      <th>3</th>\n",
       "      <td>33</td>\n",
       "      <td>male</td>\n",
       "      <td>22.705</td>\n",
       "      <td>0</td>\n",
       "      <td>no</td>\n",
       "      <td>northwest</td>\n",
       "      <td>21984.47061</td>\n",
       "    </tr>\n",
       "    <tr>\n",
       "      <th>4</th>\n",
       "      <td>32</td>\n",
       "      <td>male</td>\n",
       "      <td>28.880</td>\n",
       "      <td>0</td>\n",
       "      <td>no</td>\n",
       "      <td>northwest</td>\n",
       "      <td>3866.85520</td>\n",
       "    </tr>\n",
       "    <tr>\n",
       "      <th>...</th>\n",
       "      <td>...</td>\n",
       "      <td>...</td>\n",
       "      <td>...</td>\n",
       "      <td>...</td>\n",
       "      <td>...</td>\n",
       "      <td>...</td>\n",
       "      <td>...</td>\n",
       "    </tr>\n",
       "    <tr>\n",
       "      <th>1333</th>\n",
       "      <td>50</td>\n",
       "      <td>male</td>\n",
       "      <td>30.970</td>\n",
       "      <td>3</td>\n",
       "      <td>no</td>\n",
       "      <td>northwest</td>\n",
       "      <td>10600.54830</td>\n",
       "    </tr>\n",
       "    <tr>\n",
       "      <th>1334</th>\n",
       "      <td>18</td>\n",
       "      <td>female</td>\n",
       "      <td>31.920</td>\n",
       "      <td>0</td>\n",
       "      <td>no</td>\n",
       "      <td>northeast</td>\n",
       "      <td>2205.98080</td>\n",
       "    </tr>\n",
       "    <tr>\n",
       "      <th>1335</th>\n",
       "      <td>18</td>\n",
       "      <td>female</td>\n",
       "      <td>36.850</td>\n",
       "      <td>0</td>\n",
       "      <td>no</td>\n",
       "      <td>southeast</td>\n",
       "      <td>1629.83350</td>\n",
       "    </tr>\n",
       "    <tr>\n",
       "      <th>1336</th>\n",
       "      <td>21</td>\n",
       "      <td>female</td>\n",
       "      <td>25.800</td>\n",
       "      <td>0</td>\n",
       "      <td>no</td>\n",
       "      <td>southwest</td>\n",
       "      <td>2007.94500</td>\n",
       "    </tr>\n",
       "    <tr>\n",
       "      <th>1337</th>\n",
       "      <td>61</td>\n",
       "      <td>female</td>\n",
       "      <td>29.070</td>\n",
       "      <td>0</td>\n",
       "      <td>yes</td>\n",
       "      <td>northwest</td>\n",
       "      <td>29141.36030</td>\n",
       "    </tr>\n",
       "  </tbody>\n",
       "</table>\n",
       "<p>1338 rows × 7 columns</p>\n",
       "</div>"
      ],
      "text/plain": [
       "      age     sex     bmi  children smoker     region      charges\n",
       "0      19  female  27.900         0    yes  southwest  16884.92400\n",
       "1      18    male  33.770         1     no  southeast   1725.55230\n",
       "2      28    male  33.000         3     no  southeast   4449.46200\n",
       "3      33    male  22.705         0     no  northwest  21984.47061\n",
       "4      32    male  28.880         0     no  northwest   3866.85520\n",
       "...   ...     ...     ...       ...    ...        ...          ...\n",
       "1333   50    male  30.970         3     no  northwest  10600.54830\n",
       "1334   18  female  31.920         0     no  northeast   2205.98080\n",
       "1335   18  female  36.850         0     no  southeast   1629.83350\n",
       "1336   21  female  25.800         0     no  southwest   2007.94500\n",
       "1337   61  female  29.070         0    yes  northwest  29141.36030\n",
       "\n",
       "[1338 rows x 7 columns]"
      ]
     },
     "execution_count": 1,
     "metadata": {},
     "output_type": "execute_result"
    }
   ],
   "source": [
    "import pandas as pd\n",
    "import numpy as np\n",
    "import matplotlib.pyplot as plt\n",
    "import seaborn as sns\n",
    "from sklearn.model_selection import train_test_split\n",
    "from sklearn.tree import DecisionTreeClassifier\n",
    "from sklearn.metrics import roc_auc_score, roc_curve, confusion_matrix\n",
    "import warnings\n",
    "warnings.filterwarnings('ignore')\n",
    "from sklearn.metrics import accuracy_score, classification_report, confusion_matrix #not required as its copied\n",
    "\n",
    "# Load the dataset\n",
    "df = pd.read_csv('https://raw.githubusercontent.com/dsrscientist/dataset4/main/medical_cost_insurance.csv')\n",
    "df\n"
   ]
  },
  {
   "cell_type": "code",
   "execution_count": 2,
   "id": "2ee6fe13",
   "metadata": {},
   "outputs": [
    {
     "name": "stdout",
     "output_type": "stream",
     "text": [
      "   age     sex     bmi  children smoker     region      charges\n",
      "0   19  female  27.900         0    yes  southwest  16884.92400\n",
      "1   18    male  33.770         1     no  southeast   1725.55230\n",
      "2   28    male  33.000         3     no  southeast   4449.46200\n",
      "3   33    male  22.705         0     no  northwest  21984.47061\n",
      "4   32    male  28.880         0     no  northwest   3866.85520\n"
     ]
    }
   ],
   "source": [
    "# Display the first few rows of the dataset\n",
    "print(df.head())"
   ]
  },
  {
   "cell_type": "code",
   "execution_count": 3,
   "id": "772a8565",
   "metadata": {},
   "outputs": [
    {
     "data": {
      "text/html": [
       "<div>\n",
       "<style scoped>\n",
       "    .dataframe tbody tr th:only-of-type {\n",
       "        vertical-align: middle;\n",
       "    }\n",
       "\n",
       "    .dataframe tbody tr th {\n",
       "        vertical-align: top;\n",
       "    }\n",
       "\n",
       "    .dataframe thead th {\n",
       "        text-align: right;\n",
       "    }\n",
       "</style>\n",
       "<table border=\"1\" class=\"dataframe\">\n",
       "  <thead>\n",
       "    <tr style=\"text-align: right;\">\n",
       "      <th></th>\n",
       "      <th>age</th>\n",
       "      <th>sex</th>\n",
       "      <th>bmi</th>\n",
       "      <th>children</th>\n",
       "      <th>smoker</th>\n",
       "      <th>region</th>\n",
       "      <th>charges</th>\n",
       "    </tr>\n",
       "  </thead>\n",
       "  <tbody>\n",
       "    <tr>\n",
       "      <th>1328</th>\n",
       "      <td>23</td>\n",
       "      <td>female</td>\n",
       "      <td>24.225</td>\n",
       "      <td>2</td>\n",
       "      <td>no</td>\n",
       "      <td>northeast</td>\n",
       "      <td>22395.74424</td>\n",
       "    </tr>\n",
       "    <tr>\n",
       "      <th>1329</th>\n",
       "      <td>52</td>\n",
       "      <td>male</td>\n",
       "      <td>38.600</td>\n",
       "      <td>2</td>\n",
       "      <td>no</td>\n",
       "      <td>southwest</td>\n",
       "      <td>10325.20600</td>\n",
       "    </tr>\n",
       "    <tr>\n",
       "      <th>1330</th>\n",
       "      <td>57</td>\n",
       "      <td>female</td>\n",
       "      <td>25.740</td>\n",
       "      <td>2</td>\n",
       "      <td>no</td>\n",
       "      <td>southeast</td>\n",
       "      <td>12629.16560</td>\n",
       "    </tr>\n",
       "    <tr>\n",
       "      <th>1331</th>\n",
       "      <td>23</td>\n",
       "      <td>female</td>\n",
       "      <td>33.400</td>\n",
       "      <td>0</td>\n",
       "      <td>no</td>\n",
       "      <td>southwest</td>\n",
       "      <td>10795.93733</td>\n",
       "    </tr>\n",
       "    <tr>\n",
       "      <th>1332</th>\n",
       "      <td>52</td>\n",
       "      <td>female</td>\n",
       "      <td>44.700</td>\n",
       "      <td>3</td>\n",
       "      <td>no</td>\n",
       "      <td>southwest</td>\n",
       "      <td>11411.68500</td>\n",
       "    </tr>\n",
       "    <tr>\n",
       "      <th>1333</th>\n",
       "      <td>50</td>\n",
       "      <td>male</td>\n",
       "      <td>30.970</td>\n",
       "      <td>3</td>\n",
       "      <td>no</td>\n",
       "      <td>northwest</td>\n",
       "      <td>10600.54830</td>\n",
       "    </tr>\n",
       "    <tr>\n",
       "      <th>1334</th>\n",
       "      <td>18</td>\n",
       "      <td>female</td>\n",
       "      <td>31.920</td>\n",
       "      <td>0</td>\n",
       "      <td>no</td>\n",
       "      <td>northeast</td>\n",
       "      <td>2205.98080</td>\n",
       "    </tr>\n",
       "    <tr>\n",
       "      <th>1335</th>\n",
       "      <td>18</td>\n",
       "      <td>female</td>\n",
       "      <td>36.850</td>\n",
       "      <td>0</td>\n",
       "      <td>no</td>\n",
       "      <td>southeast</td>\n",
       "      <td>1629.83350</td>\n",
       "    </tr>\n",
       "    <tr>\n",
       "      <th>1336</th>\n",
       "      <td>21</td>\n",
       "      <td>female</td>\n",
       "      <td>25.800</td>\n",
       "      <td>0</td>\n",
       "      <td>no</td>\n",
       "      <td>southwest</td>\n",
       "      <td>2007.94500</td>\n",
       "    </tr>\n",
       "    <tr>\n",
       "      <th>1337</th>\n",
       "      <td>61</td>\n",
       "      <td>female</td>\n",
       "      <td>29.070</td>\n",
       "      <td>0</td>\n",
       "      <td>yes</td>\n",
       "      <td>northwest</td>\n",
       "      <td>29141.36030</td>\n",
       "    </tr>\n",
       "  </tbody>\n",
       "</table>\n",
       "</div>"
      ],
      "text/plain": [
       "      age     sex     bmi  children smoker     region      charges\n",
       "1328   23  female  24.225         2     no  northeast  22395.74424\n",
       "1329   52    male  38.600         2     no  southwest  10325.20600\n",
       "1330   57  female  25.740         2     no  southeast  12629.16560\n",
       "1331   23  female  33.400         0     no  southwest  10795.93733\n",
       "1332   52  female  44.700         3     no  southwest  11411.68500\n",
       "1333   50    male  30.970         3     no  northwest  10600.54830\n",
       "1334   18  female  31.920         0     no  northeast   2205.98080\n",
       "1335   18  female  36.850         0     no  southeast   1629.83350\n",
       "1336   21  female  25.800         0     no  southwest   2007.94500\n",
       "1337   61  female  29.070         0    yes  northwest  29141.36030"
      ]
     },
     "execution_count": 3,
     "metadata": {},
     "output_type": "execute_result"
    }
   ],
   "source": [
    "df.tail(10) #The tail() method returns a specified number of rows, string from the last."
   ]
  },
  {
   "cell_type": "code",
   "execution_count": 4,
   "id": "03870674",
   "metadata": {},
   "outputs": [
    {
     "data": {
      "text/plain": [
       "(1338, 7)"
      ]
     },
     "execution_count": 4,
     "metadata": {},
     "output_type": "execute_result"
    }
   ],
   "source": [
    "df.shape # to check the dimension of the data set (rows, columns)"
   ]
  },
  {
   "cell_type": "code",
   "execution_count": 5,
   "id": "760b4160",
   "metadata": {},
   "outputs": [
    {
     "data": {
      "text/plain": [
       "age           int64\n",
       "sex          object\n",
       "bmi         float64\n",
       "children      int64\n",
       "smoker       object\n",
       "region       object\n",
       "charges     float64\n",
       "dtype: object"
      ]
     },
     "execution_count": 5,
     "metadata": {},
     "output_type": "execute_result"
    }
   ],
   "source": [
    "df.dtypes #Checking the types of columns"
   ]
  },
  {
   "cell_type": "code",
   "execution_count": 6,
   "id": "29999f6e",
   "metadata": {},
   "outputs": [
    {
     "data": {
      "text/plain": [
       "age         0\n",
       "sex         0\n",
       "bmi         0\n",
       "children    0\n",
       "smoker      0\n",
       "region      0\n",
       "charges     0\n",
       "dtype: int64"
      ]
     },
     "execution_count": 6,
     "metadata": {},
     "output_type": "execute_result"
    }
   ],
   "source": [
    "#checking the null Values\n",
    "df.isnull().sum()"
   ]
  },
  {
   "cell_type": "code",
   "execution_count": 7,
   "id": "5488d1a1",
   "metadata": {},
   "outputs": [
    {
     "name": "stdout",
     "output_type": "stream",
     "text": [
      "<class 'pandas.core.frame.DataFrame'>\n",
      "RangeIndex: 1338 entries, 0 to 1337\n",
      "Data columns (total 7 columns):\n",
      " #   Column    Non-Null Count  Dtype  \n",
      "---  ------    --------------  -----  \n",
      " 0   age       1338 non-null   int64  \n",
      " 1   sex       1338 non-null   object \n",
      " 2   bmi       1338 non-null   float64\n",
      " 3   children  1338 non-null   int64  \n",
      " 4   smoker    1338 non-null   object \n",
      " 5   region    1338 non-null   object \n",
      " 6   charges   1338 non-null   float64\n",
      "dtypes: float64(2), int64(2), object(3)\n",
      "memory usage: 73.3+ KB\n"
     ]
    }
   ],
   "source": [
    "df.info() #detailed information about the data frame"
   ]
  },
  {
   "cell_type": "code",
   "execution_count": 8,
   "id": "dd506304",
   "metadata": {},
   "outputs": [
    {
     "data": {
      "text/html": [
       "<div>\n",
       "<style scoped>\n",
       "    .dataframe tbody tr th:only-of-type {\n",
       "        vertical-align: middle;\n",
       "    }\n",
       "\n",
       "    .dataframe tbody tr th {\n",
       "        vertical-align: top;\n",
       "    }\n",
       "\n",
       "    .dataframe thead th {\n",
       "        text-align: right;\n",
       "    }\n",
       "</style>\n",
       "<table border=\"1\" class=\"dataframe\">\n",
       "  <thead>\n",
       "    <tr style=\"text-align: right;\">\n",
       "      <th></th>\n",
       "      <th>age</th>\n",
       "      <th>bmi</th>\n",
       "      <th>children</th>\n",
       "      <th>charges</th>\n",
       "    </tr>\n",
       "  </thead>\n",
       "  <tbody>\n",
       "    <tr>\n",
       "      <th>count</th>\n",
       "      <td>1338.000000</td>\n",
       "      <td>1338.000000</td>\n",
       "      <td>1338.000000</td>\n",
       "      <td>1338.000000</td>\n",
       "    </tr>\n",
       "    <tr>\n",
       "      <th>mean</th>\n",
       "      <td>39.207025</td>\n",
       "      <td>30.663397</td>\n",
       "      <td>1.094918</td>\n",
       "      <td>13270.422265</td>\n",
       "    </tr>\n",
       "    <tr>\n",
       "      <th>std</th>\n",
       "      <td>14.049960</td>\n",
       "      <td>6.098187</td>\n",
       "      <td>1.205493</td>\n",
       "      <td>12110.011237</td>\n",
       "    </tr>\n",
       "    <tr>\n",
       "      <th>min</th>\n",
       "      <td>18.000000</td>\n",
       "      <td>15.960000</td>\n",
       "      <td>0.000000</td>\n",
       "      <td>1121.873900</td>\n",
       "    </tr>\n",
       "    <tr>\n",
       "      <th>25%</th>\n",
       "      <td>27.000000</td>\n",
       "      <td>26.296250</td>\n",
       "      <td>0.000000</td>\n",
       "      <td>4740.287150</td>\n",
       "    </tr>\n",
       "    <tr>\n",
       "      <th>50%</th>\n",
       "      <td>39.000000</td>\n",
       "      <td>30.400000</td>\n",
       "      <td>1.000000</td>\n",
       "      <td>9382.033000</td>\n",
       "    </tr>\n",
       "    <tr>\n",
       "      <th>75%</th>\n",
       "      <td>51.000000</td>\n",
       "      <td>34.693750</td>\n",
       "      <td>2.000000</td>\n",
       "      <td>16639.912515</td>\n",
       "    </tr>\n",
       "    <tr>\n",
       "      <th>max</th>\n",
       "      <td>64.000000</td>\n",
       "      <td>53.130000</td>\n",
       "      <td>5.000000</td>\n",
       "      <td>63770.428010</td>\n",
       "    </tr>\n",
       "  </tbody>\n",
       "</table>\n",
       "</div>"
      ],
      "text/plain": [
       "               age          bmi     children       charges\n",
       "count  1338.000000  1338.000000  1338.000000   1338.000000\n",
       "mean     39.207025    30.663397     1.094918  13270.422265\n",
       "std      14.049960     6.098187     1.205493  12110.011237\n",
       "min      18.000000    15.960000     0.000000   1121.873900\n",
       "25%      27.000000    26.296250     0.000000   4740.287150\n",
       "50%      39.000000    30.400000     1.000000   9382.033000\n",
       "75%      51.000000    34.693750     2.000000  16639.912515\n",
       "max      64.000000    53.130000     5.000000  63770.428010"
      ]
     },
     "execution_count": 8,
     "metadata": {},
     "output_type": "execute_result"
    }
   ],
   "source": [
    "df.describe()"
   ]
  },
  {
   "cell_type": "code",
   "execution_count": 9,
   "id": "c3e3a6b5",
   "metadata": {},
   "outputs": [
    {
     "name": "stdout",
     "output_type": "stream",
     "text": [
      "18    69\n",
      "19    68\n",
      "50    29\n",
      "51    29\n",
      "47    29\n",
      "46    29\n",
      "45    29\n",
      "20    29\n",
      "48    29\n",
      "52    29\n",
      "22    28\n",
      "49    28\n",
      "54    28\n",
      "53    28\n",
      "21    28\n",
      "26    28\n",
      "24    28\n",
      "25    28\n",
      "28    28\n",
      "27    28\n",
      "23    28\n",
      "43    27\n",
      "29    27\n",
      "30    27\n",
      "41    27\n",
      "42    27\n",
      "44    27\n",
      "31    27\n",
      "40    27\n",
      "32    26\n",
      "33    26\n",
      "56    26\n",
      "34    26\n",
      "55    26\n",
      "57    26\n",
      "37    25\n",
      "59    25\n",
      "58    25\n",
      "36    25\n",
      "38    25\n",
      "35    25\n",
      "39    25\n",
      "61    23\n",
      "60    23\n",
      "63    23\n",
      "62    23\n",
      "64    22\n",
      "Name: age, dtype: int64\n",
      "\n",
      "\n",
      "male      676\n",
      "female    662\n",
      "Name: sex, dtype: int64\n",
      "\n",
      "\n",
      "32.300    13\n",
      "28.310     9\n",
      "30.495     8\n",
      "30.875     8\n",
      "31.350     8\n",
      "          ..\n",
      "46.200     1\n",
      "23.800     1\n",
      "44.770     1\n",
      "32.120     1\n",
      "30.970     1\n",
      "Name: bmi, Length: 548, dtype: int64\n",
      "\n",
      "\n",
      "0    574\n",
      "1    324\n",
      "2    240\n",
      "3    157\n",
      "4     25\n",
      "5     18\n",
      "Name: children, dtype: int64\n",
      "\n",
      "\n",
      "no     1064\n",
      "yes     274\n",
      "Name: smoker, dtype: int64\n",
      "\n",
      "\n",
      "southeast    364\n",
      "southwest    325\n",
      "northwest    325\n",
      "northeast    324\n",
      "Name: region, dtype: int64\n",
      "\n",
      "\n",
      "1639.56310     2\n",
      "16884.92400    1\n",
      "29330.98315    1\n",
      "2221.56445     1\n",
      "19798.05455    1\n",
      "              ..\n",
      "7345.08400     1\n",
      "26109.32905    1\n",
      "28287.89766    1\n",
      "1149.39590     1\n",
      "29141.36030    1\n",
      "Name: charges, Length: 1337, dtype: int64\n",
      "\n",
      "\n"
     ]
    }
   ],
   "source": [
    "#checking the value count of each column\n",
    "for i in df.columns:\n",
    "    print(df[i].value_counts())\n",
    "    print(\"\\n\")"
   ]
  },
  {
   "cell_type": "code",
   "execution_count": 10,
   "id": "e3bf1a55",
   "metadata": {},
   "outputs": [
    {
     "data": {
      "text/html": [
       "<div>\n",
       "<style scoped>\n",
       "    .dataframe tbody tr th:only-of-type {\n",
       "        vertical-align: middle;\n",
       "    }\n",
       "\n",
       "    .dataframe tbody tr th {\n",
       "        vertical-align: top;\n",
       "    }\n",
       "\n",
       "    .dataframe thead th {\n",
       "        text-align: right;\n",
       "    }\n",
       "</style>\n",
       "<table border=\"1\" class=\"dataframe\">\n",
       "  <thead>\n",
       "    <tr style=\"text-align: right;\">\n",
       "      <th></th>\n",
       "      <th>no. of unique values</th>\n",
       "    </tr>\n",
       "  </thead>\n",
       "  <tbody>\n",
       "    <tr>\n",
       "      <th>age</th>\n",
       "      <td>47</td>\n",
       "    </tr>\n",
       "    <tr>\n",
       "      <th>sex</th>\n",
       "      <td>2</td>\n",
       "    </tr>\n",
       "    <tr>\n",
       "      <th>bmi</th>\n",
       "      <td>548</td>\n",
       "    </tr>\n",
       "    <tr>\n",
       "      <th>children</th>\n",
       "      <td>6</td>\n",
       "    </tr>\n",
       "    <tr>\n",
       "      <th>smoker</th>\n",
       "      <td>2</td>\n",
       "    </tr>\n",
       "    <tr>\n",
       "      <th>region</th>\n",
       "      <td>4</td>\n",
       "    </tr>\n",
       "    <tr>\n",
       "      <th>charges</th>\n",
       "      <td>1337</td>\n",
       "    </tr>\n",
       "  </tbody>\n",
       "</table>\n",
       "</div>"
      ],
      "text/plain": [
       "          no. of unique values\n",
       "age                         47\n",
       "sex                          2\n",
       "bmi                        548\n",
       "children                     6\n",
       "smoker                       2\n",
       "region                       4\n",
       "charges                   1337"
      ]
     },
     "execution_count": 10,
     "metadata": {},
     "output_type": "execute_result"
    }
   ],
   "source": [
    "#checking number of unique value in each column\n",
    "df.nunique().to_frame('no. of unique values')"
   ]
  },
  {
   "cell_type": "code",
   "execution_count": 11,
   "id": "6792ea54",
   "metadata": {},
   "outputs": [],
   "source": [
    "#droping 'region' column as it doesnot related to 'charges' column\n",
    "df.drop('region', axis=1, inplace= True)"
   ]
  },
  {
   "cell_type": "code",
   "execution_count": 12,
   "id": "48295e6c",
   "metadata": {},
   "outputs": [
    {
     "name": "stdout",
     "output_type": "stream",
     "text": [
      "      age     sex     bmi  children smoker      charges\n",
      "0      19  female  27.900         0    yes  16884.92400\n",
      "1      18    male  33.770         1     no   1725.55230\n",
      "2      28    male  33.000         3     no   4449.46200\n",
      "3      33    male  22.705         0     no  21984.47061\n",
      "4      32    male  28.880         0     no   3866.85520\n",
      "...   ...     ...     ...       ...    ...          ...\n",
      "1333   50    male  30.970         3     no  10600.54830\n",
      "1334   18  female  31.920         0     no   2205.98080\n",
      "1335   18  female  36.850         0     no   1629.83350\n",
      "1336   21  female  25.800         0     no   2007.94500\n",
      "1337   61  female  29.070         0    yes  29141.36030\n",
      "\n",
      "[1338 rows x 6 columns]\n"
     ]
    }
   ],
   "source": [
    "print(df)"
   ]
  },
  {
   "cell_type": "code",
   "execution_count": 13,
   "id": "8240fed4",
   "metadata": {},
   "outputs": [
    {
     "data": {
      "text/html": [
       "<div>\n",
       "<style scoped>\n",
       "    .dataframe tbody tr th:only-of-type {\n",
       "        vertical-align: middle;\n",
       "    }\n",
       "\n",
       "    .dataframe tbody tr th {\n",
       "        vertical-align: top;\n",
       "    }\n",
       "\n",
       "    .dataframe thead th {\n",
       "        text-align: right;\n",
       "    }\n",
       "</style>\n",
       "<table border=\"1\" class=\"dataframe\">\n",
       "  <thead>\n",
       "    <tr style=\"text-align: right;\">\n",
       "      <th></th>\n",
       "      <th>age</th>\n",
       "      <th>sex</th>\n",
       "      <th>bmi</th>\n",
       "      <th>children</th>\n",
       "      <th>smoker</th>\n",
       "      <th>charges</th>\n",
       "    </tr>\n",
       "  </thead>\n",
       "  <tbody>\n",
       "    <tr>\n",
       "      <th>0</th>\n",
       "      <td>19</td>\n",
       "      <td>0</td>\n",
       "      <td>27.900</td>\n",
       "      <td>0</td>\n",
       "      <td>1</td>\n",
       "      <td>16884.92400</td>\n",
       "    </tr>\n",
       "    <tr>\n",
       "      <th>1</th>\n",
       "      <td>18</td>\n",
       "      <td>1</td>\n",
       "      <td>33.770</td>\n",
       "      <td>1</td>\n",
       "      <td>0</td>\n",
       "      <td>1725.55230</td>\n",
       "    </tr>\n",
       "    <tr>\n",
       "      <th>2</th>\n",
       "      <td>28</td>\n",
       "      <td>1</td>\n",
       "      <td>33.000</td>\n",
       "      <td>3</td>\n",
       "      <td>0</td>\n",
       "      <td>4449.46200</td>\n",
       "    </tr>\n",
       "    <tr>\n",
       "      <th>3</th>\n",
       "      <td>33</td>\n",
       "      <td>1</td>\n",
       "      <td>22.705</td>\n",
       "      <td>0</td>\n",
       "      <td>0</td>\n",
       "      <td>21984.47061</td>\n",
       "    </tr>\n",
       "    <tr>\n",
       "      <th>4</th>\n",
       "      <td>32</td>\n",
       "      <td>1</td>\n",
       "      <td>28.880</td>\n",
       "      <td>0</td>\n",
       "      <td>0</td>\n",
       "      <td>3866.85520</td>\n",
       "    </tr>\n",
       "    <tr>\n",
       "      <th>...</th>\n",
       "      <td>...</td>\n",
       "      <td>...</td>\n",
       "      <td>...</td>\n",
       "      <td>...</td>\n",
       "      <td>...</td>\n",
       "      <td>...</td>\n",
       "    </tr>\n",
       "    <tr>\n",
       "      <th>1333</th>\n",
       "      <td>50</td>\n",
       "      <td>1</td>\n",
       "      <td>30.970</td>\n",
       "      <td>3</td>\n",
       "      <td>0</td>\n",
       "      <td>10600.54830</td>\n",
       "    </tr>\n",
       "    <tr>\n",
       "      <th>1334</th>\n",
       "      <td>18</td>\n",
       "      <td>0</td>\n",
       "      <td>31.920</td>\n",
       "      <td>0</td>\n",
       "      <td>0</td>\n",
       "      <td>2205.98080</td>\n",
       "    </tr>\n",
       "    <tr>\n",
       "      <th>1335</th>\n",
       "      <td>18</td>\n",
       "      <td>0</td>\n",
       "      <td>36.850</td>\n",
       "      <td>0</td>\n",
       "      <td>0</td>\n",
       "      <td>1629.83350</td>\n",
       "    </tr>\n",
       "    <tr>\n",
       "      <th>1336</th>\n",
       "      <td>21</td>\n",
       "      <td>0</td>\n",
       "      <td>25.800</td>\n",
       "      <td>0</td>\n",
       "      <td>0</td>\n",
       "      <td>2007.94500</td>\n",
       "    </tr>\n",
       "    <tr>\n",
       "      <th>1337</th>\n",
       "      <td>61</td>\n",
       "      <td>0</td>\n",
       "      <td>29.070</td>\n",
       "      <td>0</td>\n",
       "      <td>1</td>\n",
       "      <td>29141.36030</td>\n",
       "    </tr>\n",
       "  </tbody>\n",
       "</table>\n",
       "<p>1338 rows × 6 columns</p>\n",
       "</div>"
      ],
      "text/plain": [
       "      age  sex     bmi  children  smoker      charges\n",
       "0      19    0  27.900         0       1  16884.92400\n",
       "1      18    1  33.770         1       0   1725.55230\n",
       "2      28    1  33.000         3       0   4449.46200\n",
       "3      33    1  22.705         0       0  21984.47061\n",
       "4      32    1  28.880         0       0   3866.85520\n",
       "...   ...  ...     ...       ...     ...          ...\n",
       "1333   50    1  30.970         3       0  10600.54830\n",
       "1334   18    0  31.920         0       0   2205.98080\n",
       "1335   18    0  36.850         0       0   1629.83350\n",
       "1336   21    0  25.800         0       0   2007.94500\n",
       "1337   61    0  29.070         0       1  29141.36030\n",
       "\n",
       "[1338 rows x 6 columns]"
      ]
     },
     "execution_count": 13,
     "metadata": {},
     "output_type": "execute_result"
    }
   ],
   "source": [
    "#label encoding, In this each unique category is mapped to an integer.\n",
    "df['sex'] = df['sex'].map({'female': 0, 'male': 1})\n",
    "df['smoker'] = df['smoker'].map({'no': 0, 'yes': 1})\n",
    "df"
   ]
  },
  {
   "cell_type": "code",
   "execution_count": 14,
   "id": "ee67e798",
   "metadata": {},
   "outputs": [
    {
     "data": {
      "text/plain": [
       "age           int64\n",
       "sex           int64\n",
       "bmi         float64\n",
       "children      int64\n",
       "smoker        int64\n",
       "charges     float64\n",
       "dtype: object"
      ]
     },
     "execution_count": 14,
     "metadata": {},
     "output_type": "execute_result"
    }
   ],
   "source": [
    "df.dtypes #Checking the types of columns again after"
   ]
  },
  {
   "cell_type": "code",
   "execution_count": null,
   "id": "531a3427",
   "metadata": {},
   "outputs": [],
   "source": [
    "# DATA VISUALISATION"
   ]
  },
  {
   "cell_type": "code",
   "execution_count": 15,
   "id": "d0a16de8",
   "metadata": {},
   "outputs": [
    {
     "name": "stdout",
     "output_type": "stream",
     "text": [
      "1639.56310     2\n",
      "16884.92400    1\n",
      "29330.98315    1\n",
      "2221.56445     1\n",
      "19798.05455    1\n",
      "              ..\n",
      "7345.08400     1\n",
      "26109.32905    1\n",
      "28287.89766    1\n",
      "1149.39590     1\n",
      "29141.36030    1\n",
      "Name: charges, Length: 1337, dtype: int64\n"
     ]
    },
    {
     "data": {
      "image/png": "[encoded data removed]",
      "text/plain": [
       "<Figure size 1000x600 with 1 Axes>"
      ]
     },
     "metadata": {},
     "output_type": "display_data"
    }
   ],
   "source": [
    "# Visualisation of distribution of the target variable (charges)\n",
    "import seaborn as sns\n",
    "import matplotlib.pyplot as plt\n",
    "\n",
    "plt.figure(figsize=(10, 6))\n",
    "sns.histplot(df['charges'], bins=30, kde=True)\n",
    "plt.title('Distribution of Insurance Charges')\n",
    "print(df['charges'].value_counts())\n",
    "plt.show()"
   ]
  },
  {
   "cell_type": "code",
   "execution_count": 16,
   "id": "3480499a",
   "metadata": {},
   "outputs": [
    {
     "name": "stdout",
     "output_type": "stream",
     "text": [
      "Numerical Columns ['age', 'sex', 'bmi', 'children', 'smoker', 'charges']\n"
     ]
    }
   ],
   "source": [
    "#seperating numerical columns \n",
    "numerical_col= []\n",
    "for i in df.dtypes.index:\n",
    "    if df.dtypes[i]!='object':\n",
    "        numerical_col.append(i)\n",
    "print('Numerical Columns', numerical_col)\n",
    "    "
   ]
  },
  {
   "cell_type": "code",
   "execution_count": 17,
   "id": "beb05829",
   "metadata": {},
   "outputs": [
    {
     "data": {
      "image/png": "[encoded data removed]",
      "text/plain": [
       "<Figure size 1000x700 with 6 Axes>"
      ]
     },
     "metadata": {},
     "output_type": "display_data"
    }
   ],
   "source": [
    "#lets check how the data has been distributed in remaining column \n",
    "plt.figure(figsize = (10, 7), facecolor=\"white\")\n",
    "plotnumber=1\n",
    "for col in numerical_col:\n",
    "    if plotnumber<=6:\n",
    "        ax=plt.subplot(3,4,plotnumber)\n",
    "        sns.distplot(df[col], color='g')        \n",
    "        plt.yticks(rotation=0, fontsize= 10)\n",
    "    plotnumber+=1\n",
    "plt.tight_layout()"
   ]
  },
  {
   "cell_type": "code",
   "execution_count": 18,
   "id": "1f2f711d",
   "metadata": {},
   "outputs": [
    {
     "data": {
      "text/plain": [
       "age         0.055673\n",
       "sex        -0.020951\n",
       "bmi         0.284047\n",
       "children    0.938380\n",
       "smoker      1.464766\n",
       "charges     1.515880\n",
       "dtype: float64"
      ]
     },
     "execution_count": 18,
     "metadata": {},
     "output_type": "execute_result"
    }
   ],
   "source": [
    "# Checking for skewness\n",
    "df.skew()\n",
    "\n",
    "#Acceptable range of skewness is from -0.5 to +0.5"
   ]
  },
  {
   "cell_type": "code",
   "execution_count": 19,
   "id": "57e7191d",
   "metadata": {},
   "outputs": [],
   "source": [
    "#Removing Skewness using cuberoot method\n",
    "df['children'] = np.cbrt(df['children'])\n",
    "df['smoker'] = np.cbrt(df['smoker'])\n",
    "df['charges'] = np.cbrt(df['charges'])"
   ]
  },
  {
   "cell_type": "code",
   "execution_count": 20,
   "id": "fe651813",
   "metadata": {},
   "outputs": [
    {
     "data": {
      "text/plain": [
       "age         0.055673\n",
       "sex        -0.020951\n",
       "bmi         0.284047\n",
       "children   -0.097116\n",
       "smoker      1.464766\n",
       "charges     0.515183\n",
       "dtype: float64"
      ]
     },
     "execution_count": 20,
     "metadata": {},
     "output_type": "execute_result"
    }
   ],
   "source": [
    "# Checking Again for skewness\n",
    "df.skew()\n",
    "\n",
    "\n",
    "# NOTE: 'smoker' is a binary variable (0 or 1), we don't need to apply transformations to it, as it is already in a suitable format for many machine learning models."
   ]
  },
  {
   "cell_type": "code",
   "execution_count": 21,
   "id": "8d3f51c8",
   "metadata": {},
   "outputs": [
    {
     "data": {
      "image/png": "[encoded data removed]",
      "text/plain": [
       "<Figure size 1000x700 with 6 Axes>"
      ]
     },
     "metadata": {},
     "output_type": "display_data"
    }
   ],
   "source": [
    "#lets check Again how the data has been distributed in remaining column \n",
    "plt.figure(figsize = (10, 7), facecolor=\"white\")\n",
    "plotnumber=1\n",
    "for col in numerical_col:\n",
    "    if plotnumber<=6:\n",
    "        ax=plt.subplot(3,4,plotnumber)\n",
    "        sns.distplot(df[col], color='g')        \n",
    "        plt.yticks(rotation=0, fontsize= 10)\n",
    "    plotnumber+=1\n",
    "plt.tight_layout()"
   ]
  },
  {
   "cell_type": "code",
   "execution_count": null,
   "id": "63f1897e",
   "metadata": {},
   "outputs": [],
   "source": []
  },
  {
   "cell_type": "code",
   "execution_count": 22,
   "id": "cf1e8cf9",
   "metadata": {},
   "outputs": [
    {
     "data": {
      "image/png": "[encoded data removed]",
      "text/plain": [
       "<Figure size 2000x2500 with 6 Axes>"
      ]
     },
     "metadata": {},
     "output_type": "display_data"
    }
   ],
   "source": [
    "#lets check the outliners by plotting box plot\n",
    "plt.figure(figsize = (20, 25))\n",
    "p=1\n",
    "for i in df:\n",
    "    if p<=6:\n",
    "        plt.subplot(5,4,p)\n",
    "        sns.boxplot(df[i], palette='Set2_r')        \n",
    "        plt.xlabel(i)\n",
    "        \n",
    "    p+=1\n",
    "    \n",
    "plt.show()"
   ]
  },
  {
   "cell_type": "code",
   "execution_count": 23,
   "id": "d2fba45c",
   "metadata": {},
   "outputs": [
    {
     "data": {
      "text/html": [
       "<div>\n",
       "<style scoped>\n",
       "    .dataframe tbody tr th:only-of-type {\n",
       "        vertical-align: middle;\n",
       "    }\n",
       "\n",
       "    .dataframe tbody tr th {\n",
       "        vertical-align: top;\n",
       "    }\n",
       "\n",
       "    .dataframe thead th {\n",
       "        text-align: right;\n",
       "    }\n",
       "</style>\n",
       "<table border=\"1\" class=\"dataframe\">\n",
       "  <thead>\n",
       "    <tr style=\"text-align: right;\">\n",
       "      <th></th>\n",
       "      <th>age</th>\n",
       "      <th>sex</th>\n",
       "      <th>bmi</th>\n",
       "      <th>children</th>\n",
       "      <th>smoker</th>\n",
       "      <th>charges</th>\n",
       "    </tr>\n",
       "  </thead>\n",
       "  <tbody>\n",
       "    <tr>\n",
       "      <th>age</th>\n",
       "      <td>1.000000</td>\n",
       "      <td>-0.020856</td>\n",
       "      <td>0.109272</td>\n",
       "      <td>0.048919</td>\n",
       "      <td>-0.025019</td>\n",
       "      <td>0.451354</td>\n",
       "    </tr>\n",
       "    <tr>\n",
       "      <th>sex</th>\n",
       "      <td>-0.020856</td>\n",
       "      <td>1.000000</td>\n",
       "      <td>0.046371</td>\n",
       "      <td>0.016183</td>\n",
       "      <td>0.076185</td>\n",
       "      <td>0.027560</td>\n",
       "    </tr>\n",
       "    <tr>\n",
       "      <th>bmi</th>\n",
       "      <td>0.109272</td>\n",
       "      <td>0.046371</td>\n",
       "      <td>1.000000</td>\n",
       "      <td>0.016515</td>\n",
       "      <td>0.003750</td>\n",
       "      <td>0.156375</td>\n",
       "    </tr>\n",
       "    <tr>\n",
       "      <th>children</th>\n",
       "      <td>0.048919</td>\n",
       "      <td>0.016183</td>\n",
       "      <td>0.016515</td>\n",
       "      <td>1.000000</td>\n",
       "      <td>0.011829</td>\n",
       "      <td>0.128511</td>\n",
       "    </tr>\n",
       "    <tr>\n",
       "      <th>smoker</th>\n",
       "      <td>-0.025019</td>\n",
       "      <td>0.076185</td>\n",
       "      <td>0.003750</td>\n",
       "      <td>0.011829</td>\n",
       "      <td>1.000000</td>\n",
       "      <td>0.732564</td>\n",
       "    </tr>\n",
       "    <tr>\n",
       "      <th>charges</th>\n",
       "      <td>0.451354</td>\n",
       "      <td>0.027560</td>\n",
       "      <td>0.156375</td>\n",
       "      <td>0.128511</td>\n",
       "      <td>0.732564</td>\n",
       "      <td>1.000000</td>\n",
       "    </tr>\n",
       "  </tbody>\n",
       "</table>\n",
       "</div>"
      ],
      "text/plain": [
       "               age       sex       bmi  children    smoker   charges\n",
       "age       1.000000 -0.020856  0.109272  0.048919 -0.025019  0.451354\n",
       "sex      -0.020856  1.000000  0.046371  0.016183  0.076185  0.027560\n",
       "bmi       0.109272  0.046371  1.000000  0.016515  0.003750  0.156375\n",
       "children  0.048919  0.016183  0.016515  1.000000  0.011829  0.128511\n",
       "smoker   -0.025019  0.076185  0.003750  0.011829  1.000000  0.732564\n",
       "charges   0.451354  0.027560  0.156375  0.128511  0.732564  1.000000"
      ]
     },
     "execution_count": 23,
     "metadata": {},
     "output_type": "execute_result"
    }
   ],
   "source": [
    "#Checking the correlation between feature and the target. NOTE: RAnge is from (-1 to +1) & 0 represent no correlation\n",
    "cor=df.corr()\n",
    "cor\n"
   ]
  },
  {
   "cell_type": "code",
   "execution_count": 24,
   "id": "16a37630",
   "metadata": {},
   "outputs": [
    {
     "data": {
      "image/png": "[encoded data removed]",
      "text/plain": [
       "<Figure size 1000x500 with 2 Axes>"
      ]
     },
     "metadata": {},
     "output_type": "display_data"
    }
   ],
   "source": [
    "#Visualising the correlation matrix by plotting heat map\n",
    "plt.figure(figsize=(10,5))\n",
    "correlation_matrix = df.corr()\n",
    "sns.heatmap(correlation_matrix, annot=True, cmap='Blues_r', linecolor='black', fmt=\".1g\", linewidths=0.1)\n",
    "plt.title('Correlation Matrix')\n",
    "plt.show()\n",
    "\n",
    "# NOTE: 0- no relation, -0.3 to +0.3 - less correlation, greater than -0.5 or greater than +0.5 - moderate correlation, greater than -0.7 or greater than +0.7 high correlation"
   ]
  },
  {
   "cell_type": "code",
   "execution_count": 25,
   "id": "a0b5763e",
   "metadata": {},
   "outputs": [
    {
     "data": {
      "text/plain": [
       "charges     1.000000\n",
       "smoker      0.732564\n",
       "age         0.451354\n",
       "bmi         0.156375\n",
       "children    0.128511\n",
       "sex         0.027560\n",
       "Name: charges, dtype: float64"
      ]
     },
     "execution_count": 25,
     "metadata": {},
     "output_type": "execute_result"
    }
   ],
   "source": [
    "cor['charges'].sort_values(ascending= False)"
   ]
  },
  {
   "cell_type": "code",
   "execution_count": 26,
   "id": "1428173e",
   "metadata": {},
   "outputs": [
    {
     "data": {
      "image/png": "[encoded data removed]",
      "text/plain": [
       "<Figure size 2200x700 with 1 Axes>"
      ]
     },
     "metadata": {},
     "output_type": "display_data"
    }
   ],
   "source": [
    "#Visualising the correlation between label and features using bar plot\n",
    "\n",
    "plt.figure(figsize= (22, 7))\n",
    "df.corr()['charges'].sort_values(ascending = False).drop(['charges']).plot(kind='bar',color='m')\n",
    "plt.xlabel('Feature', fontsize = 15)\n",
    "plt.ylabel('Target', fontsize = 15)\n",
    "plt.title('Correlation between label and feature using barplot', fontsize=20)\n",
    "plt.show()\n"
   ]
  },
  {
   "cell_type": "code",
   "execution_count": 27,
   "id": "84fb50d6",
   "metadata": {},
   "outputs": [
    {
     "name": "stdout",
     "output_type": "stream",
     "text": [
      "11.791690    2\n",
      "25.654666    1\n",
      "30.839610    1\n",
      "13.048271    1\n",
      "27.052506    1\n",
      "            ..\n",
      "19.438627    1\n",
      "29.666427    1\n",
      "30.469610    1\n",
      "10.475061    1\n",
      "30.773007    1\n",
      "Name: charges, Length: 1337, dtype: int64\n"
     ]
    },
    {
     "data": {
      "image/png": "[encoded data removed]",
      "text/plain": [
       "<Figure size 1000x600 with 1 Axes>"
      ]
     },
     "metadata": {},
     "output_type": "display_data"
    }
   ],
   "source": [
    "# Again Visualisation of distribution of the target variable (charges)\n",
    "import seaborn as sns\n",
    "import matplotlib.pyplot as plt\n",
    "\n",
    "plt.figure(figsize=(10, 6))\n",
    "sns.histplot(df['charges'], bins=30, kde=True)\n",
    "plt.title('Distribution of Insurance Charges')\n",
    "print(df['charges'].value_counts())\n",
    "plt.show()"
   ]
  },
  {
   "cell_type": "code",
   "execution_count": null,
   "id": "6f1f97fc",
   "metadata": {},
   "outputs": [],
   "source": [
    "#MODELING"
   ]
  },
  {
   "cell_type": "code",
   "execution_count": 28,
   "id": "cb9d57f8",
   "metadata": {},
   "outputs": [],
   "source": [
    "# Split the dataset into features (x) and target variable (y)\n",
    "x = df.drop(['charges'], axis=1)\n",
    "y = df['charges']"
   ]
  },
  {
   "cell_type": "code",
   "execution_count": 29,
   "id": "b90c7324",
   "metadata": {},
   "outputs": [],
   "source": [
    "#important necessary libraries\n",
    "from sklearn.model_selection import train_test_split\n",
    "from sklearn.metrics import mean_absolute_error\n",
    "from sklearn.metrics import mean_squared_error\n",
    "from sklearn.metrics import r2_score\n",
    "from sklearn.ensemble import GradientBoostingRegressor\n",
    "from sklearn.linear_model import LinearRegression"
   ]
  },
  {
   "cell_type": "code",
   "execution_count": 30,
   "id": "4f31e9de",
   "metadata": {},
   "outputs": [
    {
     "name": "stdout",
     "output_type": "stream",
     "text": [
      "Maximum r2 score is 0.8246296154990662 on Random_state 112\n"
     ]
    }
   ],
   "source": [
    "# Finding the best random state\n",
    "\n",
    "maxAccu = 0\n",
    "maxRS = 0\n",
    "\n",
    "for i in range(1, 200):\n",
    "    # Split the dataset into training and testing sets\n",
    "    x_train, x_test, y_train, y_test = train_test_split(x, y, test_size=0.3, random_state=i)\n",
    "    \n",
    "    # Initialize Linear Regression\n",
    "    lr = LinearRegression()\n",
    "    \n",
    "    # Train the model\n",
    "    lr.fit(x_train, y_train)\n",
    "    \n",
    "    # Make predictions\n",
    "    pred = lr.predict(x_test)\n",
    "    \n",
    "    # Calculate acc\n",
    "    acc = r2_score(y_test, pred)\n",
    "    \n",
    "    # Update the best random state if the current acc is higher\n",
    "    if acc > maxAccu:\n",
    "        maxAccu = acc\n",
    "        maxRS = i\n",
    "\n",
    "print(\"Maximum r2 score is\", maxAccu, \"on Random_state\", maxRS)\n",
    "\n",
    "    \n"
   ]
  },
  {
   "cell_type": "code",
   "execution_count": 33,
   "id": "44b4a53e",
   "metadata": {},
   "outputs": [],
   "source": [
    " x_train, x_test, y_train, y_test = train_test_split(x, y, test_size=0.3, random_state=maxRS)"
   ]
  },
  {
   "cell_type": "code",
   "execution_count": 34,
   "id": "4b53bcb8",
   "metadata": {},
   "outputs": [],
   "source": [
    "from sklearn.model_selection import train_test_split\n",
    "from sklearn.neighbors import KNeighborsRegressor as KNN\n",
    "from sklearn.tree import DecisionTreeRegressor\n",
    "from sklearn.ensemble import RandomForestRegressor\n",
    "from sklearn.linear_model import Lasso, Ridge\n"
   ]
  },
  {
   "cell_type": "code",
   "execution_count": 35,
   "id": "3ff0e858",
   "metadata": {},
   "outputs": [
    {
     "name": "stdout",
     "output_type": "stream",
     "text": [
      "R2_score: 0.8246296154990662\n",
      "R2_score on training data: 75.42022596345763\n",
      "Mean Absolute Error: 1.987047686807429\n",
      "Mean Squared Error: 8.166174629255911\n",
      "Root Mean Squared Error: 2.8576519433366814\n"
     ]
    }
   ],
   "source": [
    "# Initialize Linear Regression model\n",
    "LR = LinearRegression()\n",
    "\n",
    "# Fit the model to the training data\n",
    "LR.fit(x_train, y_train)\n",
    "\n",
    "# Make predictions on the test set\n",
    "pred_LR = LR.predict(x_test)\n",
    "\n",
    "# Make predictions on the training set for evaluation\n",
    "pred_train = LR.predict(x_train)\n",
    "\n",
    "# Evaluate the model\n",
    "print('R2_score:', r2_score(y_test, pred_LR))\n",
    "print('R2_score on training data:', r2_score(y_train, pred_train)*100)\n",
    "print('Mean Absolute Error:', mean_absolute_error(y_test, pred_LR))\n",
    "print('Mean Squared Error:', mean_squared_error(y_test, pred_LR))\n",
    "print('Root Mean Squared Error:', np.sqrt(mean_squared_error(y_test, pred_LR)))"
   ]
  },
  {
   "cell_type": "code",
   "execution_count": 36,
   "id": "9914d210",
   "metadata": {},
   "outputs": [
    {
     "data": {
      "image/png": "[encoded data removed]",
      "text/plain": [
       "<Figure size 1000x600 with 1 Axes>"
      ]
     },
     "metadata": {},
     "output_type": "display_data"
    }
   ],
   "source": [
    "#scatter plot with the actual vs. predicted values for Linear Regression\n",
    "plt.figure(figsize=(10,6))\n",
    "plt.scatter(x=pred_LR,y=y_test,color='r')\n",
    "plt.plot(pred_LR,pred_LR,color='b')\n",
    "plt.xlabel('Actual',fontsize=14)\n",
    "plt.ylabel('Predicted',fontsize=14)\n",
    "plt.title('Linear Regression',fontsize=18)\n",
    "plt.show()"
   ]
  },
  {
   "cell_type": "code",
   "execution_count": 37,
   "id": "be0028a8",
   "metadata": {},
   "outputs": [
    {
     "name": "stdout",
     "output_type": "stream",
     "text": [
      "R2_score: 0.8571835759001215\n",
      "R2_score on training data: 96.62070603845189\n",
      "Mean Absolute Error: 1.4279984808734578\n",
      "Mean Squared Error: 6.650289685139342\n",
      "Root Mean Squared Error: 2.5788155585732264\n"
     ]
    }
   ],
   "source": [
    "RFR = RandomForestRegressor()\n",
    "\n",
    "# Fit the model to the training data\n",
    "RFR.fit(x_train, y_train)\n",
    "\n",
    "# Make predictions on the test set\n",
    "pred_RFR =RFR.predict(x_test)\n",
    "\n",
    "# Make predictions on the training set for evaluation\n",
    "pred_train = RFR.predict(x_train)\n",
    "\n",
    "# Evaluate the model\n",
    "print('R2_score:', r2_score(y_test, pred_RFR))\n",
    "print('R2_score on training data:', r2_score(y_train, pred_train)*100)\n",
    "print('Mean Absolute Error:', mean_absolute_error(y_test, pred_RFR))\n",
    "print('Mean Squared Error:', mean_squared_error(y_test, pred_RFR))\n",
    "print('Root Mean Squared Error:', np.sqrt(mean_squared_error(y_test, pred_RFR)))"
   ]
  },
  {
   "cell_type": "code",
   "execution_count": 38,
   "id": "62f53950",
   "metadata": {},
   "outputs": [
    {
     "name": "stdout",
     "output_type": "stream",
     "text": [
      "R2_score: 0.32133788515654793\n",
      "R2_score on training data: 51.317352850481946\n",
      "Mean Absolute Error: 4.09926374362144\n",
      "Mean Squared Error: 31.602105223429273\n",
      "Root Mean Squared Error: 5.6215749771242285\n"
     ]
    }
   ],
   "source": [
    "knn = KNN()\n",
    "\n",
    "# Fit the model to the training data\n",
    "knn.fit(x_train, y_train)\n",
    "\n",
    "# Make predictions on the test set\n",
    "pred_knn =knn.predict(x_test)\n",
    "\n",
    "# Make predictions on the training set for evaluation\n",
    "pred_train = knn.predict(x_train)\n",
    "\n",
    "# Evaluate the model\n",
    "print('R2_score:', r2_score(y_test, pred_knn))\n",
    "print('R2_score on training data:', r2_score(y_train, pred_train)*100)\n",
    "print('Mean Absolute Error:', mean_absolute_error(y_test, pred_knn))\n",
    "print('Mean Squared Error:', mean_squared_error(y_test, pred_knn))\n",
    "print('Root Mean Squared Error:', np.sqrt(mean_squared_error(y_test, pred_knn)))"
   ]
  },
  {
   "cell_type": "code",
   "execution_count": 39,
   "id": "d3d279e8",
   "metadata": {},
   "outputs": [
    {
     "name": "stdout",
     "output_type": "stream",
     "text": [
      "R2_score: 0.8790732755171499\n",
      "R2_score on training data: 86.93062317262094\n",
      "Mean Absolute Error: 1.4007455333623524\n",
      "Mean Squared Error: 5.6309892475922165\n",
      "Root Mean Squared Error: 2.372970553460834\n"
     ]
    }
   ],
   "source": [
    "GBR = GradientBoostingRegressor()\n",
    "\n",
    "# Fit the model to the training data\n",
    "GBR.fit(x_train, y_train)\n",
    "\n",
    "# Make predictions on the test set\n",
    "pred_GBR =GBR.predict(x_test)\n",
    "\n",
    "# Make predictions on the training set for evaluation\n",
    "pred_train = GBR.predict(x_train)\n",
    "\n",
    "# Evaluate the model\n",
    "print('R2_score:', r2_score(y_test, pred_GBR))\n",
    "print('R2_score on training data:', r2_score(y_train, pred_train)*100)\n",
    "print('Mean Absolute Error:', mean_absolute_error(y_test, pred_GBR))\n",
    "print('Mean Squared Error:', mean_squared_error(y_test, pred_GBR))\n",
    "print('Root Mean Squared Error:', np.sqrt(mean_squared_error(y_test, pred_GBR)))"
   ]
  },
  {
   "cell_type": "code",
   "execution_count": 40,
   "id": "818fcba9",
   "metadata": {},
   "outputs": [
    {
     "name": "stdout",
     "output_type": "stream",
     "text": [
      "R2_score: 0.6544374214589355\n",
      "R2_score on training data: 58.91878344248633\n",
      "Mean Absolute Error: 3.156376001789197\n",
      "Mean Squared Error: 16.09122526436195\n",
      "Root Mean Squared Error: 4.011386950215841\n"
     ]
    }
   ],
   "source": [
    "lasso = Lasso()\n",
    "\n",
    "# Fit the model to the training data\n",
    "lasso.fit(x_train, y_train)\n",
    "\n",
    "# Make predictions on the test set\n",
    "pred_lasso =lasso.predict(x_test)\n",
    "\n",
    "# Make predictions on the training set for evaluation\n",
    "pred_train = lasso.predict(x_train)\n",
    "\n",
    "# Evaluate the model\n",
    "print('R2_score:', r2_score(y_test, pred_lasso))\n",
    "print('R2_score on training data:', r2_score(y_train, pred_train)*100)\n",
    "print('Mean Absolute Error:', mean_absolute_error(y_test, pred_lasso))\n",
    "print('Mean Squared Error:', mean_squared_error(y_test, pred_lasso))\n",
    "print('Root Mean Squared Error:', np.sqrt(mean_squared_error(y_test, pred_lasso)))"
   ]
  },
  {
   "cell_type": "code",
   "execution_count": 41,
   "id": "2fc3337c",
   "metadata": {},
   "outputs": [
    {
     "name": "stdout",
     "output_type": "stream",
     "text": [
      "R2_score: 0.8245000116788613\n",
      "R2_score on training data: 75.41772865286572\n",
      "Mean Absolute Error: 1.9934222438074307\n",
      "Mean Squared Error: 8.172209670072089\n",
      "Root Mean Squared Error: 2.8587076923099515\n"
     ]
    }
   ],
   "source": [
    "rd = Ridge()\n",
    "\n",
    "# Fit the model to the training data\n",
    "rd.fit(x_train, y_train)\n",
    "\n",
    "# Make predictions on the test set\n",
    "pred_rd =rd.predict(x_test)\n",
    "\n",
    "# Make predictions on the training set for evaluation\n",
    "pred_train = rd.predict(x_train)\n",
    "\n",
    "# Evaluate the model\n",
    "print('R2_score:', r2_score(y_test, pred_rd))\n",
    "print('R2_score on training data:', r2_score(y_train, pred_train)*100)\n",
    "print('Mean Absolute Error:', mean_absolute_error(y_test, pred_rd))\n",
    "print('Mean Squared Error:', mean_squared_error(y_test, pred_rd))\n",
    "print('Root Mean Squared Error:', np.sqrt(mean_squared_error(y_test, pred_rd)))"
   ]
  },
  {
   "cell_type": "code",
   "execution_count": 42,
   "id": "73543cc1",
   "metadata": {},
   "outputs": [
    {
     "name": "stdout",
     "output_type": "stream",
     "text": [
      "R2_score: 0.7294457282290244\n",
      "R2_score on training data: 99.72645112683293\n",
      "Mean Absolute Error: 1.692694323786354\n",
      "Mean Squared Error: 12.598440929809247\n",
      "Root Mean Squared Error: 3.549428253931786\n"
     ]
    }
   ],
   "source": [
    "from sklearn.tree import DecisionTreeRegressor\n",
    "\n",
    "dtr=DecisionTreeRegressor()\n",
    "# Fit the model to the training data\n",
    "dtr.fit(x_train, y_train)\n",
    "\n",
    "# Make predictions on the test set\n",
    "pred_dtr =dtr.predict(x_test)\n",
    "\n",
    "# Make predictions on the training set for evaluation\n",
    "pred_train = dtr.predict(x_train)\n",
    "\n",
    "# Evaluate the model\n",
    "print('R2_score:', r2_score(y_test, pred_dtr))\n",
    "print('R2_score on training data:', r2_score(y_train, pred_train)*100)\n",
    "print('Mean Absolute Error:', mean_absolute_error(y_test, pred_dtr))\n",
    "print('Mean Squared Error:', mean_squared_error(y_test, pred_dtr))\n",
    "print('Root Mean Squared Error:', np.sqrt(mean_squared_error(y_test, pred_dtr)))"
   ]
  },
  {
   "cell_type": "code",
   "execution_count": 43,
   "id": "6fa7be28",
   "metadata": {},
   "outputs": [
    {
     "name": "stdout",
     "output_type": "stream",
     "text": [
      "R2_score: 0.053322183072952556\n",
      "R2_score on training data: -1.8508658620190799\n",
      "Mean Absolute Error: 3.794258250743407\n",
      "Mean Squared Error: 44.082336893250435\n",
      "Root Mean Squared Error: 6.639453056784906\n"
     ]
    }
   ],
   "source": [
    "from sklearn.svm import SVR\n",
    "\n",
    "svr=SVR()\n",
    "# Fit the model to the training data\n",
    "svr.fit(x_train, y_train)\n",
    "\n",
    "# Make predictions on the test set\n",
    "pred_svr =svr.predict(x_test)\n",
    "\n",
    "# Make predictions on the training set for evaluation\n",
    "pred_train = svr.predict(x_train)\n",
    "\n",
    "# Evaluate the model\n",
    "print('R2_score:', r2_score(y_test, pred_svr))\n",
    "print('R2_score on training data:', r2_score(y_train, pred_train)*100)\n",
    "print('Mean Absolute Error:', mean_absolute_error(y_test, pred_svr))\n",
    "print('Mean Squared Error:', mean_squared_error(y_test, pred_svr))\n",
    "print('Root Mean Squared Error:', np.sqrt(mean_squared_error(y_test, pred_svr)))"
   ]
  },
  {
   "cell_type": "code",
   "execution_count": 44,
   "id": "7be7b54d",
   "metadata": {},
   "outputs": [
    {
     "name": "stdout",
     "output_type": "stream",
     "text": [
      "R2_score: 0.8207582187890232\n",
      "R2_score on training data: 99.72645112683293\n",
      "Mean Absolute Error: 1.5318849872812277\n",
      "Mean Squared Error: 8.346447379887698\n",
      "Root Mean Squared Error: 2.8890218725180494\n"
     ]
    }
   ],
   "source": [
    "from sklearn.ensemble import ExtraTreesRegressor\n",
    "\n",
    "etr=ExtraTreesRegressor()\n",
    "# Fit the model to the training data\n",
    "etr.fit(x_train, y_train)\n",
    "\n",
    "# Make predictions on the test set\n",
    "pred_etr =etr.predict(x_test)\n",
    "\n",
    "# Make predictions on the training set for evaluation\n",
    "pred_train = etr.predict(x_train)\n",
    "\n",
    "# Evaluate the model\n",
    "print('R2_score:', r2_score(y_test, pred_etr))\n",
    "print('R2_score on training data:', r2_score(y_train, pred_train)*100)\n",
    "print('Mean Absolute Error:', mean_absolute_error(y_test, pred_etr))\n",
    "print('Mean Squared Error:', mean_squared_error(y_test, pred_etr))\n",
    "print('Root Mean Squared Error:', np.sqrt(mean_squared_error(y_test, pred_etr)))"
   ]
  },
  {
   "cell_type": "code",
   "execution_count": 45,
   "id": "73e51f53",
   "metadata": {},
   "outputs": [],
   "source": [
    "from sklearn.model_selection import cross_val_score"
   ]
  },
  {
   "cell_type": "code",
   "execution_count": null,
   "id": "9860b8f5",
   "metadata": {},
   "outputs": [],
   "source": [
    "\"\"\" default scoring parameterin cross validation for classification models is - accuracy\n",
    "default scoring parameterin cross validation for regression model is - r squared score  \"\"\""
   ]
  },
  {
   "cell_type": "code",
   "execution_count": 46,
   "id": "bbd270fd",
   "metadata": {},
   "outputs": [
    {
     "name": "stdout",
     "output_type": "stream",
     "text": [
      "[0.80470235 0.70507075 0.83002831 0.76874003 0.76328667]\n",
      "0.7743656213115159\n",
      "Difference between R2 score and cross validation score is  5.026399418755034\n"
     ]
    }
   ],
   "source": [
    "#cross_val_score on the Linear regression model (to insure overfitting or not )\n",
    "\n",
    "score= cross_val_score(LR,x,y, cv=5, scoring='r2')\n",
    "print(score)\n",
    "print(score.mean())\n",
    "print('Difference between R2 score and cross validation score is ',(r2_score(y_test,pred_LR)- score.mean())*100)"
   ]
  },
  {
   "cell_type": "code",
   "execution_count": 47,
   "id": "4cecac09",
   "metadata": {},
   "outputs": [
    {
     "name": "stdout",
     "output_type": "stream",
     "text": [
      "[0.83242387 0.71335916 0.83262775 0.79411279 0.7839051 ]\n",
      "0.7912857342450911\n",
      "Difference between R2 score and cross validation score is  6.589784165503043\n"
     ]
    }
   ],
   "source": [
    "#cross_val_score on the RandomForestRegressor\n",
    "score1= cross_val_score(RFR,x,y, cv=5, scoring='r2')\n",
    "print(score1)\n",
    "print(score1.mean())\n",
    "print('Difference between R2 score and cross validation score is ',(r2_score(y_test,pred_RFR)- score1.mean())*100)"
   ]
  },
  {
   "cell_type": "code",
   "execution_count": 48,
   "id": "048696fe",
   "metadata": {},
   "outputs": [
    {
     "name": "stdout",
     "output_type": "stream",
     "text": [
      "[0.25999119 0.29304618 0.25257914 0.3314032  0.25340342]\n",
      "0.27808462530079464\n",
      "Difference between R2 score and cross validation score is  4.325325985575329\n"
     ]
    }
   ],
   "source": [
    "#cross_val_score on the KNN\n",
    "\n",
    "score2= cross_val_score(knn,x,y, cv=5, scoring='r2')\n",
    "print(score2)\n",
    "print(score2.mean())\n",
    "print('Difference between R2 score and cross validation score is ',(r2_score(y_test,pred_knn)- score2.mean())*100)"
   ]
  },
  {
   "cell_type": "code",
   "execution_count": 49,
   "id": "0836e314",
   "metadata": {},
   "outputs": [
    {
     "name": "stdout",
     "output_type": "stream",
     "text": [
      "[0.86565721 0.74857603 0.89017861 0.8294536  0.82190327]\n",
      "0.8311537429626533\n",
      "Difference between R2 score and cross validation score is  4.791953255449655\n"
     ]
    }
   ],
   "source": [
    "#cross_val_score on the GradientBoostingRegressor\n",
    "\n",
    "score3= cross_val_score(GBR,x,y, cv=5, scoring='r2')\n",
    "print(score3)\n",
    "print(score3.mean())\n",
    "print('Difference between R2 score and cross validation score is ',(r2_score(y_test,pred_GBR)- score3.mean())*100)"
   ]
  },
  {
   "cell_type": "code",
   "execution_count": 50,
   "id": "fd05a3f3",
   "metadata": {},
   "outputs": [
    {
     "name": "stdout",
     "output_type": "stream",
     "text": [
      "[0.64333683 0.6171663  0.64316556 0.63505463 0.57611848]\n",
      "0.6229683583935535\n",
      "Difference between R2 score and cross validation score is  3.1469063065381997\n"
     ]
    }
   ],
   "source": [
    "#cross_val_score on the lasso\n",
    "score4= cross_val_score(lasso,x,y, cv=5, scoring='r2')\n",
    "print(score4)\n",
    "print(score4.mean())\n",
    "print('Difference between R2 score and cross validation score is ',(r2_score(y_test,pred_lasso)- score4.mean())*100)"
   ]
  },
  {
   "cell_type": "code",
   "execution_count": 51,
   "id": "08adc1b4",
   "metadata": {},
   "outputs": [
    {
     "name": "stdout",
     "output_type": "stream",
     "text": [
      "[0.80461724 0.7056021  0.82950133 0.76906129 0.76298292]\n",
      "0.7743529761082715\n",
      "Difference between R2 score and cross validation score is  5.014703557058986\n"
     ]
    }
   ],
   "source": [
    "#cross_val_score on the Ridge\n",
    "score5= cross_val_score(rd,x,y, cv=5, scoring='r2')\n",
    "print(score5)\n",
    "print(score5.mean())\n",
    "print('Difference between R2 score and cross validation score is ',(r2_score(y_test,pred_rd)- score5.mean())*100)"
   ]
  },
  {
   "cell_type": "code",
   "execution_count": 52,
   "id": "337d5fba",
   "metadata": {},
   "outputs": [
    {
     "name": "stdout",
     "output_type": "stream",
     "text": [
      "[0.67498843 0.60055077 0.60468367 0.70261507 0.5629972 ]\n",
      "0.6291670289975636\n",
      "Difference between R2 score and cross validation score is  10.027869923146081\n"
     ]
    }
   ],
   "source": [
    "#cross_val_score on the DecisionTreeRegressor\n",
    "score6= cross_val_score(dtr,x,y, cv=5, scoring='r2')\n",
    "print(score6)\n",
    "print(score6.mean())\n",
    "print('Difference between R2 score and cross validation score is ',(r2_score(y_test,pred_dtr)- score6.mean())*100)"
   ]
  },
  {
   "cell_type": "code",
   "execution_count": 53,
   "id": "7da05b44",
   "metadata": {},
   "outputs": [
    {
     "name": "stdout",
     "output_type": "stream",
     "text": [
      "[-0.00463419  0.08648764  0.06689337  0.04807099 -0.16502408]\n",
      "0.006358744304201358\n",
      "Difference between R2 score and cross validation score is  4.69634387687512\n"
     ]
    }
   ],
   "source": [
    "#cross_val_score on the SVR\n",
    "score7= cross_val_score(svr,x,y, cv=5, scoring='r2')\n",
    "print(score7)\n",
    "print(score7.mean())\n",
    "print('Difference between R2 score and cross validation score is ',(r2_score(y_test,pred_svr)- score7.mean())*100)"
   ]
  },
  {
   "cell_type": "code",
   "execution_count": 54,
   "id": "12c78a7b",
   "metadata": {},
   "outputs": [
    {
     "name": "stdout",
     "output_type": "stream",
     "text": [
      "[0.77940918 0.66969485 0.80244649 0.75859504 0.74439747]\n",
      "0.7509086090988311\n",
      "Difference between R2 score and cross validation score is  6.984960969019216\n"
     ]
    }
   ],
   "source": [
    "#cross_val_score on the ExtraTreesRegressor\n",
    "score8= cross_val_score(etr,x,y, cv=5, scoring='r2')\n",
    "print(score8)\n",
    "print(score8.mean())\n",
    "print('Difference between R2 score and cross validation score is ',(r2_score(y_test,pred_etr)- score8.mean())*100)"
   ]
  },
  {
   "cell_type": "code",
   "execution_count": null,
   "id": "4dd615a7",
   "metadata": {},
   "outputs": [],
   "source": [
    "#From the difference of both R2 score and Cross Validation scoe computed on R2 score we can conclude that Gradient Boosting Regressor as our best fitting and best performing model"
   ]
  },
  {
   "cell_type": "code",
   "execution_count": null,
   "id": "a733d76e",
   "metadata": {},
   "outputs": [],
   "source": [
    "\"\"\"GridSearchCV performs a search over the specified parameter values using cross-validation.\n",
    "The best hyperparameters are printed, and the best model is obtained.\n",
    "The model is evaluated on the test set using Mean Squared Error and R-squared.\"\"\""
   ]
  },
  {
   "cell_type": "code",
   "execution_count": 55,
   "id": "8450ac73",
   "metadata": {},
   "outputs": [
    {
     "data": {
      "text/plain": [
       "GridSearchCV(cv=5, estimator=GradientBoostingRegressor(),\n",
       "             param_grid={'learning_rate': [0.01, 0.1, 0.2],\n",
       "                         'max_depth': [3, 4, 5], 'min_samples_leaf': [1, 2, 4],\n",
       "                         'min_samples_split': [2, 5, 10],\n",
       "                         'n_estimators': [50, 100, 150]},\n",
       "             scoring='neg_mean_squared_error')"
      ]
     },
     "execution_count": 55,
     "metadata": {},
     "output_type": "execute_result"
    }
   ],
   "source": [
    "#GridSearchCV performs a search over the specified parameter values using cross-validation. (Gradient Boosting Regressor)\n",
    "\n",
    "from sklearn.model_selection import GridSearchCV\n",
    "# Initialize the model\n",
    "GBR = GradientBoostingRegressor() #already defined above still writing to easy remember\n",
    "\n",
    "# Define the hyperparameters and their possible values\n",
    "param_grid = {\n",
    "    'n_estimators': [50, 100, 150],\n",
    "    'learning_rate': [0.01, 0.1, 0.2],\n",
    "    'max_depth': [3, 4, 5],\n",
    "    'min_samples_split': [2, 5, 10],\n",
    "    'min_samples_leaf': [1, 2, 4]\n",
    "}\n",
    "\n",
    "# Create GridSearchCV\n",
    "gscv = GridSearchCV(estimator=GBR, param_grid=param_grid, scoring='neg_mean_squared_error', cv=5)\n",
    "\n",
    "# Fit the model to the training data\n",
    "gscv.fit(x_train, y_train)\n"
   ]
  },
  {
   "cell_type": "code",
   "execution_count": 56,
   "id": "60832c66",
   "metadata": {},
   "outputs": [
    {
     "data": {
      "text/plain": [
       "{'learning_rate': 0.1,\n",
       " 'max_depth': 3,\n",
       " 'min_samples_leaf': 2,\n",
       " 'min_samples_split': 5,\n",
       " 'n_estimators': 50}"
      ]
     },
     "execution_count": 56,
     "metadata": {},
     "output_type": "execute_result"
    }
   ],
   "source": [
    "gscv.best_params_"
   ]
  },
  {
   "cell_type": "code",
   "execution_count": 57,
   "id": "06ed0f3d",
   "metadata": {},
   "outputs": [
    {
     "name": "stdout",
     "output_type": "stream",
     "text": [
      "Best Hyperparameters: {'learning_rate': 0.1, 'max_depth': 3, 'min_samples_leaf': 2, 'min_samples_split': 5, 'n_estimators': 50}\n",
      "Mean Squared Error: 5.278374256463984\n",
      "R-squared: 0.8866457594992351\n"
     ]
    }
   ],
   "source": [
    "# Get the best parameters and best model\n",
    "best_params = gscv.best_params_\n",
    "best_model = gscv.best_estimator_\n",
    "\n",
    "# Make predictions on the test set\n",
    "y_pred = best_model.predict(x_test)\n",
    "\n",
    "# Evaluate the model\n",
    "mse = mean_squared_error(y_test, y_pred)\n",
    "r2 = r2_score(y_test, y_pred)\n",
    "\n",
    "print(f'Best Hyperparameters: {best_params}')\n",
    "print(f'Mean Squared Error: {mse}')\n",
    "print(f'R-squared: {r2}')\n"
   ]
  },
  {
   "cell_type": "code",
   "execution_count": 58,
   "id": "3c60ead8",
   "metadata": {},
   "outputs": [],
   "source": [
    "from sklearn.ensemble import GradientBoostingRegressor\n",
    "\n",
    "Model = GradientBoostingRegressor(n_estimators=100,learning_rate=0.1,max_depth=3,subsample=1.0,random_state=1)\n",
    "\n",
    "#n_estimators is the number of boosting stages to be run.\n",
    "#learning_rate is the shrinkage applied to each tree's contribution.\n",
    "#max_depth is the maximum depth of the individual trees.\n",
    "#subsample is the fraction of samples used for fitting the trees.\n",
    "#random_state is the seed used by the random number generator."
   ]
  },
  {
   "cell_type": "code",
   "execution_count": 59,
   "id": "834e26af",
   "metadata": {},
   "outputs": [
    {
     "name": "stdout",
     "output_type": "stream",
     "text": [
      "R2_score: 0.8791978232502579\n",
      "Mean Absolute Error: 1.3996532576924572\n",
      "Mean Squared Error: 5.625189644990371\n",
      "Root Mean Squared Error: 2.371748225463734\n"
     ]
    }
   ],
   "source": [
    "#Again building the model & checking the performance\n",
    "\n",
    "Model.fit(x_train, y_train)\n",
    "\n",
    "# Make predictions on the test set\n",
    "pred =Model.predict(x_test)\n",
    "\n",
    "# Evaluate the model\n",
    "print('R2_score:', r2_score(y_test, pred))\n",
    "print('Mean Absolute Error:', mean_absolute_error(y_test, pred))\n",
    "print('Mean Squared Error:', mean_squared_error(y_test, pred))\n",
    "print('Root Mean Squared Error:', np.sqrt(mean_squared_error(y_test, pred)))"
   ]
  },
  {
   "cell_type": "code",
   "execution_count": null,
   "id": "26f1b122",
   "metadata": {},
   "outputs": [],
   "source": [
    "# Now Saving the model , after checking the performance of the final model"
   ]
  },
  {
   "cell_type": "code",
   "execution_count": 60,
   "id": "18b1bb83",
   "metadata": {},
   "outputs": [],
   "source": [
    "import pickle\n",
    "filename='Insurence_cost.pkl'\n",
    "pickle.dump(Model,open(filename,'wb'))  #saved model"
   ]
  },
  {
   "cell_type": "code",
   "execution_count": null,
   "id": "70d8416a",
   "metadata": {},
   "outputs": [],
   "source": []
  },
  {
   "cell_type": "code",
   "execution_count": null,
   "id": "e9a4a2dd",
   "metadata": {},
   "outputs": [],
   "source": [
    "#After saving the model if we want to use the same model in future , we can load the model by using the 'open'method"
   ]
  },
  {
   "cell_type": "code",
   "execution_count": 61,
   "id": "98ab5541",
   "metadata": {},
   "outputs": [
    {
     "name": "stdout",
     "output_type": "stream",
     "text": [
      "87.91978232502579\n"
     ]
    }
   ],
   "source": [
    "import pickle\n",
    "loaded_model=pickle.load(open('Insurence_cost.pkl','rb')) # rb= read binary\n",
    "result=loaded_model.score(x_test,y_test)\n",
    "print(result*100)"
   ]
  },
  {
   "cell_type": "code",
   "execution_count": 62,
   "id": "0c484c4d",
   "metadata": {},
   "outputs": [
    {
     "data": {
      "text/html": [
       "<div>\n",
       "<style scoped>\n",
       "    .dataframe tbody tr th:only-of-type {\n",
       "        vertical-align: middle;\n",
       "    }\n",
       "\n",
       "    .dataframe tbody tr th {\n",
       "        vertical-align: top;\n",
       "    }\n",
       "\n",
       "    .dataframe thead th {\n",
       "        text-align: right;\n",
       "    }\n",
       "</style>\n",
       "<table border=\"1\" class=\"dataframe\">\n",
       "  <thead>\n",
       "    <tr style=\"text-align: right;\">\n",
       "      <th></th>\n",
       "      <th>0</th>\n",
       "      <th>1</th>\n",
       "      <th>2</th>\n",
       "      <th>3</th>\n",
       "      <th>4</th>\n",
       "      <th>5</th>\n",
       "      <th>6</th>\n",
       "      <th>7</th>\n",
       "      <th>8</th>\n",
       "      <th>9</th>\n",
       "      <th>...</th>\n",
       "      <th>392</th>\n",
       "      <th>393</th>\n",
       "      <th>394</th>\n",
       "      <th>395</th>\n",
       "      <th>396</th>\n",
       "      <th>397</th>\n",
       "      <th>398</th>\n",
       "      <th>399</th>\n",
       "      <th>400</th>\n",
       "      <th>401</th>\n",
       "    </tr>\n",
       "  </thead>\n",
       "  <tbody>\n",
       "    <tr>\n",
       "      <th>Predicted</th>\n",
       "      <td>22.892055</td>\n",
       "      <td>20.054203</td>\n",
       "      <td>30.985254</td>\n",
       "      <td>28.932538</td>\n",
       "      <td>29.365826</td>\n",
       "      <td>19.816828</td>\n",
       "      <td>20.131005</td>\n",
       "      <td>27.112374</td>\n",
       "      <td>18.535353</td>\n",
       "      <td>14.978486</td>\n",
       "      <td>...</td>\n",
       "      <td>19.553580</td>\n",
       "      <td>32.301986</td>\n",
       "      <td>23.756965</td>\n",
       "      <td>19.410017</td>\n",
       "      <td>22.232757</td>\n",
       "      <td>19.470983</td>\n",
       "      <td>18.149309</td>\n",
       "      <td>20.426716</td>\n",
       "      <td>13.327896</td>\n",
       "      <td>14.080552</td>\n",
       "    </tr>\n",
       "    <tr>\n",
       "      <th>Original</th>\n",
       "      <td>22.300771</td>\n",
       "      <td>20.014208</td>\n",
       "      <td>32.591173</td>\n",
       "      <td>29.058028</td>\n",
       "      <td>28.831918</td>\n",
       "      <td>20.049609</td>\n",
       "      <td>20.208065</td>\n",
       "      <td>27.477553</td>\n",
       "      <td>17.384021</td>\n",
       "      <td>11.980144</td>\n",
       "      <td>...</td>\n",
       "      <td>19.171778</td>\n",
       "      <td>33.113110</td>\n",
       "      <td>23.760959</td>\n",
       "      <td>18.568571</td>\n",
       "      <td>21.447903</td>\n",
       "      <td>18.143278</td>\n",
       "      <td>17.374865</td>\n",
       "      <td>19.082468</td>\n",
       "      <td>13.891939</td>\n",
       "      <td>12.535078</td>\n",
       "    </tr>\n",
       "  </tbody>\n",
       "</table>\n",
       "<p>2 rows × 402 columns</p>\n",
       "</div>"
      ],
      "text/plain": [
       "                 0          1          2          3          4          5    \\\n",
       "Predicted  22.892055  20.054203  30.985254  28.932538  29.365826  19.816828   \n",
       "Original   22.300771  20.014208  32.591173  29.058028  28.831918  20.049609   \n",
       "\n",
       "                 6          7          8          9    ...        392  \\\n",
       "Predicted  20.131005  27.112374  18.535353  14.978486  ...  19.553580   \n",
       "Original   20.208065  27.477553  17.384021  11.980144  ...  19.171778   \n",
       "\n",
       "                 393        394        395        396        397        398  \\\n",
       "Predicted  32.301986  23.756965  19.410017  22.232757  19.470983  18.149309   \n",
       "Original   33.113110  23.760959  18.568571  21.447903  18.143278  17.374865   \n",
       "\n",
       "                 399        400        401  \n",
       "Predicted  20.426716  13.327896  14.080552  \n",
       "Original   19.082468  13.891939  12.535078  \n",
       "\n",
       "[2 rows x 402 columns]"
      ]
     },
     "execution_count": 62,
     "metadata": {},
     "output_type": "execute_result"
    }
   ],
   "source": [
    "#Now if we want to see what the difference between our predicted and original value\n",
    "\n",
    "conclusion= pd.DataFrame([loaded_model.predict(x_test)[:],y_test[:]],index=['Predicted','Original'])\n",
    "conclusion"
   ]
  },
  {
   "cell_type": "code",
   "execution_count": null,
   "id": "42db9ce3",
   "metadata": {},
   "outputs": [],
   "source": []
  }
 ],
 "metadata": {
  "kernelspec": {
   "display_name": "Python 3 (ipykernel)",
   "language": "python",
   "name": "python3"
  },
  "language_info": {
   "codemirror_mode": {
    "name": "ipython",
    "version": 3
   },
   "file_extension": ".py",
   "mimetype": "text/x-python",
   "name": "python",
   "nbconvert_exporter": "python",
   "pygments_lexer": "ipython3",
   "version": "3.9.13"
  }
 },
 "nbformat": 4,
 "nbformat_minor": 5
}
